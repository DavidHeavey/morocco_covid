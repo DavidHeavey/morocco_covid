{
 "cells": [
  {
   "cell_type": "code",
   "execution_count": 11,
   "metadata": {
    "collapsed": true
   },
   "outputs": [],
   "source": [
    "import pandas as pd\n",
    "import plotly.graph_objects as go\n",
    "import numpy as np\n",
    "import seaborn as sns\n",
    "import matplotlib.pyplot as plt\n",
    "import matplotlib.dates as mdates\n",
    "import plotly.express as px\n",
    "#sns.set_theme(style=\"whitegrid\", context=\"paper\")\n",
    "#"
   ]
  },
  {
   "cell_type": "markdown",
   "source": [
    "## Read data:"
   ],
   "metadata": {
    "collapsed": false,
    "pycharm": {
     "name": "#%% md\n"
    }
   }
  },
  {
   "cell_type": "code",
   "execution_count": 12,
   "outputs": [
    {
     "data": {
      "text/plain": "['iso_code',\n 'continent',\n 'location',\n 'date',\n 'total_cases',\n 'new_cases',\n 'new_cases_smoothed',\n 'total_deaths',\n 'new_deaths',\n 'new_deaths_smoothed',\n 'total_cases_per_million',\n 'new_cases_per_million',\n 'new_cases_smoothed_per_million',\n 'total_deaths_per_million',\n 'new_deaths_per_million',\n 'new_deaths_smoothed_per_million',\n 'reproduction_rate',\n 'icu_patients',\n 'icu_patients_per_million',\n 'hosp_patients',\n 'hosp_patients_per_million',\n 'weekly_icu_admissions',\n 'weekly_icu_admissions_per_million',\n 'weekly_hosp_admissions',\n 'weekly_hosp_admissions_per_million',\n 'new_tests',\n 'total_tests',\n 'total_tests_per_thousand',\n 'new_tests_per_thousand',\n 'new_tests_smoothed',\n 'new_tests_smoothed_per_thousand',\n 'positive_rate',\n 'tests_per_case',\n 'tests_units',\n 'total_vaccinations',\n 'people_vaccinated',\n 'people_fully_vaccinated',\n 'new_vaccinations',\n 'new_vaccinations_smoothed',\n 'total_vaccinations_per_hundred',\n 'people_vaccinated_per_hundred',\n 'people_fully_vaccinated_per_hundred',\n 'new_vaccinations_smoothed_per_million',\n 'stringency_index',\n 'population',\n 'population_density',\n 'median_age',\n 'aged_65_older',\n 'aged_70_older',\n 'gdp_per_capita',\n 'extreme_poverty',\n 'cardiovasc_death_rate',\n 'diabetes_prevalence',\n 'female_smokers',\n 'male_smokers',\n 'handwashing_facilities',\n 'hospital_beds_per_thousand',\n 'life_expectancy',\n 'human_development_index']"
     },
     "execution_count": 12,
     "metadata": {},
     "output_type": "execute_result"
    }
   ],
   "source": [
    "df = pd.read_csv('owid-covid-data.csv')\n",
    "df['date'] = pd.to_datetime(df['date'], format='%d/%m/%Y')\n",
    "df.head(10)\n",
    "columns = list(df.columns.values)\n",
    "columns\n"
   ],
   "metadata": {
    "collapsed": false,
    "pycharm": {
     "name": "#%%\n"
    }
   }
  },
  {
   "cell_type": "markdown",
   "source": [
    "## Relative Population:"
   ],
   "metadata": {
    "collapsed": false,
    "pycharm": {
     "name": "#%% md\n"
    }
   }
  },
  {
   "cell_type": "code",
   "execution_count": 13,
   "outputs": [],
   "source": [
    "# df_pop = df.reset_index()\n",
    "df_pop= df.drop_duplicates(subset='location')\n",
    "df_pop = df_pop.filter(items=['population', 'location']).set_index('location')\n",
    "df_pop = df_pop.sort_values(by='population', ascending=False)\n",
    "df_pop = df_pop[df_pop['population'] > 34000000]\n",
    "\n",
    "df_pop.drop(\n",
    "    labels=['Asia', 'World', 'Africa', 'Europe','North America', 'South America', 'European Union'],\n",
    "    axis=0,\n",
    "    inplace=True)\n",
    "df_pop.reset_index( inplace=True)\n",
    "df_pop = df_pop.drop(range(20,38))\n",
    "df_pop = df_pop.drop(range(10,18))\n",
    "\n",
    "df_pop.shape\n",
    "df_pop.to_csv('rel_population.txt')"
   ],
   "metadata": {
    "collapsed": false,
    "pycharm": {
     "name": "#%%\n"
    }
   }
  },
  {
   "cell_type": "markdown",
   "source": [
    "#### Plot Relative Population:"
   ],
   "metadata": {
    "collapsed": false,
    "pycharm": {
     "name": "#%% md\n"
    }
   }
  },
  {
   "cell_type": "code",
   "execution_count": 14,
   "outputs": [
    {
     "data": {
      "text/plain": "<Figure size 432x288 with 1 Axes>",
      "image/png": "[encoded data removed]"
     },
     "metadata": {},
     "output_type": "display_data"
    }
   ],
   "source": [
    "countries = df_pop['location']\n",
    "colors = ['red' if (x=='Morocco') else 'c' for x in countries]\n",
    "fig1 = sns.barplot(x=df_pop['population'],\n",
    "            y=df_pop['location'],\n",
    "            palette=colors,\n",
    "            )\n",
    "\n",
    "def units(x, pos):\n",
    "    s='{:} M'.format(round(x*1e-6))\n",
    "    return s\n",
    "for p in fig1.patches:\n",
    "    fig1.annotate( '{:} M'.format(round(p.get_width()/1000000)), xy=(p.get_width(), p.get_y()),\n",
    "                  va='top',xytext=(5, -2), textcoords='offset points',\n",
    "                  ha='left')\n",
    "fig1.set_xlim([0,1700000000])\n",
    "fig1.set_title('Relative Population')\n",
    "fig1.set_ylabel('')\n",
    "fig1.set_xlabel('Population(Millions)')\n",
    "fig1.xaxis.set_major_formatter(units)\n",
    "plt.style.use({'figure.facecolor':'white'})\n",
    "plt.savefig('fig1',bbox_inches='tight',)\n"
   ],
   "metadata": {
    "collapsed": false,
    "pycharm": {
     "name": "#%%\n"
    }
   }
  },
  {
   "cell_type": "markdown",
   "source": [
    "## Global Deaths"
   ],
   "metadata": {
    "collapsed": false,
    "pycharm": {
     "name": "#%% md\n"
    }
   }
  },
  {
   "cell_type": "code",
   "execution_count": 15,
   "outputs": [],
   "source": [
    "df_deaths = df.filter(items=[ 'date', 'location', 'total_deaths',\n",
    "                                          'new_deaths', 'total_cases', 'new_cases'])\n",
    "df_deaths = df_deaths[(df_deaths['location']=='World') | (df_deaths['location']=='Africa')| (df_deaths['location']=='Europe')| (df_deaths['location']=='Asia')| (df_deaths['location']=='North America')| (df_deaths['location']=='Oceania')| (df_deaths['location']=='South America')]\n",
    "df_deaths = df_deaths[(df_deaths['date']=='2021-03-01')]\n",
    "df_deaths.head()\n",
    "df_deaths.to_csv('Global_Deaths.txt')"
   ],
   "metadata": {
    "collapsed": false,
    "pycharm": {
     "name": "#%%\n"
    }
   }
  },
  {
   "cell_type": "markdown",
   "source": [
    "## Morocco Pre Covid Stats:"
   ],
   "metadata": {
    "collapsed": false,
    "pycharm": {
     "name": "#%% md\n"
    }
   }
  },
  {
   "cell_type": "code",
   "execution_count": 16,
   "outputs": [],
   "source": [
    "df_mor_stats = df[(df['location']=='Morocco') | (df['location']=='Ireland')| (df['location']=='Algeria')| (df['location']=='Egypt')| (df['location']=='Ghana')]\n",
    "df_mor_stats = df_mor_stats.filter(items=['location', 'population_density',\n",
    "                                          'gdp_per_capita', 'extreme_poverty','human_development_index',\n",
    "                                          'hospital_beds_per_thousand', 'cardiovasc_death_rate','life_expectancy',\n",
    "                                          'diabetes_prevalence', 'aged_70_older'])\n",
    "df_mor_stats= df_mor_stats.drop_duplicates(subset='location')\n",
    "df_mor_stats.head()\n",
    "df_mor_stats.to_csv('mor_stats.txt')"
   ],
   "metadata": {
    "collapsed": false,
    "pycharm": {
     "name": "#%%\n"
    }
   }
  },
  {
   "cell_type": "markdown",
   "source": [
    "## Mediteranian region map\n"
   ],
   "metadata": {
    "collapsed": false,
    "pycharm": {
     "name": "#%% md\n"
    }
   }
  },
  {
   "cell_type": "code",
   "source": [
    "df_med = df[(df['location']=='Albania')|\n",
    "            (df['location']=='Algeria')|\n",
    "            (df['location']=='Bosnia and Herzegovina')|\n",
    "            (df['location']=='Croatia')|\n",
    "            (df['location']=='Cyprus')|\n",
    "            (df['location']=='Egypt')|\n",
    "            (df['location']=='France')|\n",
    "            (df['location']=='Greece')|\n",
    "            (df['location']=='Israel')|\n",
    "            (df['location']=='Italy')|\n",
    "            (df['location']=='Lebanon')|\n",
    "            (df['location']=='Libya')|\n",
    "            (df['location']=='Malta')|\n",
    "            (df['location']=='Morocco')|\n",
    "            (df['location']=='Monaco')|\n",
    "            (df['location']=='Montenegro')|\n",
    "            (df['location']=='Northern Cyprus')|\n",
    "            (df['location']=='Palestine')|\n",
    "            (df['location']=='San Marino')|\n",
    "            (df['location']=='Slovenia')|\n",
    "            (df['location']=='Spain')|\n",
    "            (df['location']=='Syria')|\n",
    "            (df['location']=='Tunisia')|\n",
    "            (df['location']=='Turkey')]\n",
    "df_med = df_med[(df_med['date'] == '2021-03-01')]\n",
    "df_med = df_med.filter(items=['date','location', 'total_deaths', 'total_cases','total_cases_per_million', 'total_deaths_per_million', 'population_density','gdp_per_capita'])\n",
    "df_med.tail()\n",
    "df_med.to_csv('med_map_stats.txt')\n"
   ],
   "metadata": {
    "collapsed": false,
    "pycharm": {
     "name": "#%%\n"
    }
   },
   "execution_count": 17,
   "outputs": []
  },
  {
   "cell_type": "markdown",
   "source": [
    "Morocco v Ireland : Cases and deaths"
   ],
   "metadata": {
    "collapsed": false,
    "pycharm": {
     "name": "#%% md\n"
    }
   }
  },
  {
   "cell_type": "code",
   "execution_count": 18,
   "outputs": [],
   "source": [
    "df_mor_deaths_cases = df[(df['location']=='Morocco')| (df['location']=='Ireland')]\n",
    "df_mor_deaths_cases = df_mor_deaths_cases[(df_mor_deaths_cases['date'] == '2021-03-01')]\n",
    "df_mor_deaths_cases = df_mor_deaths_cases.filter(items=['date','location', 'total_deaths', 'total_cases','total_cases_per_million', 'total_deaths_per_million'])\n",
    "df_mor_deaths_cases.tail()\n",
    "df_mor_deaths_cases.to_csv('moroccoVireland.txt')"
   ],
   "metadata": {
    "collapsed": false,
    "pycharm": {
     "name": "#%%\n"
    }
   }
  },
  {
   "cell_type": "code",
   "execution_count": 19,
   "outputs": [],
   "source": [
    "#palette = {c: 'red' if c=='Morocco' else 'grey' for c in df_date_less .location.unique() }\n",
    "#fig3 = sns.lineplot(x='date', y='new_deaths_per_million', hue='location',palette=palette, data=df_date_less)\n"
   ],
   "metadata": {
    "collapsed": false,
    "pycharm": {
     "name": "#%%\n"
    }
   }
  },
  {
   "cell_type": "code",
   "execution_count": 20,
   "outputs": [
    {
     "data": {
      "text/plain": "<Figure size 432x288 with 1 Axes>",
      "image/png": "[encoded data removed]"
     },
     "metadata": {},
     "output_type": "display_data"
    }
   ],
   "source": [
    "df_testing = df[(df['location']=='Morocco') | (df['location']=='Ireland')| (df['location']=='Saudi Arabia')]\n",
    "df_testing = df_testing.filter(items=['date','location', 'new_tests', 'new_tests_per_thousand ', 'total_tests','total_tests_per_thousand', 'new_tests_smoothed', 'new_tests_smoothed_per_thousand'])\n",
    "\n",
    "\n",
    "fig4 = sns.lineplot(x='date', y='total_tests_per_thousand', hue='location',color='grey', data=df_testing)\n",
    "fig4\n",
    "df_testing.shape\n",
    "df_testing.to_csv('testing.txt')"
   ],
   "metadata": {
    "collapsed": false,
    "pycharm": {
     "name": "#%%\n"
    }
   }
  },
  {
   "cell_type": "markdown",
   "source": [
    "# European Cases : Waves"
   ],
   "metadata": {
    "collapsed": false,
    "pycharm": {
     "name": "#%% md\n"
    }
   }
  },
  {
   "cell_type": "code",
   "execution_count": 21,
   "outputs": [
    {
     "data": {
      "text/plain": "        date  new_cases_per_million  Europe  France  Germany  Ireland  Italy  \\\n0 2020-01-24                  0.034   0.003   0.031    0.000      0.0  0.000   \n1 2020-01-25                  0.016   0.001   0.015    0.000      0.0  0.000   \n2 2020-01-27                  0.013   0.001   0.000    0.012      0.0  0.000   \n3 2020-01-28                  0.056   0.005   0.015    0.036      0.0  0.000   \n4 2020-01-29                  0.018   0.003   0.015    0.000      0.0  0.000   \n5 2020-01-31                  0.083   0.009   0.000    0.012      0.0  0.033   \n6 2020-02-01                  0.080   0.008   0.015    0.036      0.0  0.000   \n7 2020-02-02                  0.027   0.003   0.000    0.024      0.0  0.000   \n8 2020-02-03                  0.123   0.011   0.000    0.024      0.0  0.000   \n9 2020-02-04                  0.001   0.001   0.000    0.000      0.0  0.000   \n\n   Spain  United Kingdom  \n0  0.000           0.000  \n1  0.000           0.000  \n2  0.000           0.000  \n3  0.000           0.000  \n4  0.000           0.000  \n5  0.000           0.029  \n6  0.021           0.000  \n7  0.000           0.000  \n8  0.000           0.088  \n9  0.000           0.000  ",
      "text/html": "<div>\n<style scoped>\n    .dataframe tbody tr th:only-of-type {\n        vertical-align: middle;\n    }\n\n    .dataframe tbody tr th {\n        vertical-align: top;\n    }\n\n    .dataframe thead th {\n        text-align: right;\n    }\n</style>\n<table border=\"1\" class=\"dataframe\">\n  <thead>\n    <tr style=\"text-align: right;\">\n      <th></th>\n      <th>date</th>\n      <th>new_cases_per_million</th>\n      <th>Europe</th>\n      <th>France</th>\n      <th>Germany</th>\n      <th>Ireland</th>\n      <th>Italy</th>\n      <th>Spain</th>\n      <th>United Kingdom</th>\n    </tr>\n  </thead>\n  <tbody>\n    <tr>\n      <th>0</th>\n      <td>2020-01-24</td>\n      <td>0.034</td>\n      <td>0.003</td>\n      <td>0.031</td>\n      <td>0.000</td>\n      <td>0.0</td>\n      <td>0.000</td>\n      <td>0.000</td>\n      <td>0.000</td>\n    </tr>\n    <tr>\n      <th>1</th>\n      <td>2020-01-25</td>\n      <td>0.016</td>\n      <td>0.001</td>\n      <td>0.015</td>\n      <td>0.000</td>\n      <td>0.0</td>\n      <td>0.000</td>\n      <td>0.000</td>\n      <td>0.000</td>\n    </tr>\n    <tr>\n      <th>2</th>\n      <td>2020-01-27</td>\n      <td>0.013</td>\n      <td>0.001</td>\n      <td>0.000</td>\n      <td>0.012</td>\n      <td>0.0</td>\n      <td>0.000</td>\n      <td>0.000</td>\n      <td>0.000</td>\n    </tr>\n    <tr>\n      <th>3</th>\n      <td>2020-01-28</td>\n      <td>0.056</td>\n      <td>0.005</td>\n      <td>0.015</td>\n      <td>0.036</td>\n      <td>0.0</td>\n      <td>0.000</td>\n      <td>0.000</td>\n      <td>0.000</td>\n    </tr>\n    <tr>\n      <th>4</th>\n      <td>2020-01-29</td>\n      <td>0.018</td>\n      <td>0.003</td>\n      <td>0.015</td>\n      <td>0.000</td>\n      <td>0.0</td>\n      <td>0.000</td>\n      <td>0.000</td>\n      <td>0.000</td>\n    </tr>\n    <tr>\n      <th>5</th>\n      <td>2020-01-31</td>\n      <td>0.083</td>\n      <td>0.009</td>\n      <td>0.000</td>\n      <td>0.012</td>\n      <td>0.0</td>\n      <td>0.033</td>\n      <td>0.000</td>\n      <td>0.029</td>\n    </tr>\n    <tr>\n      <th>6</th>\n      <td>2020-02-01</td>\n      <td>0.080</td>\n      <td>0.008</td>\n      <td>0.015</td>\n      <td>0.036</td>\n      <td>0.0</td>\n      <td>0.000</td>\n      <td>0.021</td>\n      <td>0.000</td>\n    </tr>\n    <tr>\n      <th>7</th>\n      <td>2020-02-02</td>\n      <td>0.027</td>\n      <td>0.003</td>\n      <td>0.000</td>\n      <td>0.024</td>\n      <td>0.0</td>\n      <td>0.000</td>\n      <td>0.000</td>\n      <td>0.000</td>\n    </tr>\n    <tr>\n      <th>8</th>\n      <td>2020-02-03</td>\n      <td>0.123</td>\n      <td>0.011</td>\n      <td>0.000</td>\n      <td>0.024</td>\n      <td>0.0</td>\n      <td>0.000</td>\n      <td>0.000</td>\n      <td>0.088</td>\n    </tr>\n    <tr>\n      <th>9</th>\n      <td>2020-02-04</td>\n      <td>0.001</td>\n      <td>0.001</td>\n      <td>0.000</td>\n      <td>0.000</td>\n      <td>0.0</td>\n      <td>0.000</td>\n      <td>0.000</td>\n      <td>0.000</td>\n    </tr>\n  </tbody>\n</table>\n</div>"
     },
     "execution_count": 21,
     "metadata": {},
     "output_type": "execute_result"
    }
   ],
   "source": [
    "df_eu = df[(df['location']=='Ireland') | (df['location']=='France')| (df['location']=='Italy')| (df['location']=='United Kingdom')| (df['location']=='Spain')| (df['location']=='Germany')| (df['location']=='Europe')]\n",
    "df_eu = df_eu[(df_eu['new_cases_per_million'] > 0)]\n",
    "df_eu = df_eu.filter(items=['date','location', 'new_cases_per_million',])\n",
    "for country in df_eu['location'].unique():\n",
    "    df_eu[country] = np.where(df_eu['location'] == country, df_eu['new_cases_per_million'], False)\n",
    "# df_eu = df_eu.drop_duplicates(subset='date')\n",
    "df_eu= df_eu.groupby(['date'], as_index=False).sum()\n",
    "\n",
    "df_eu.to_csv('eu.txt')\n",
    "df_eu.head(10)"
   ],
   "metadata": {
    "collapsed": false,
    "pycharm": {
     "name": "#%%\n"
    }
   }
  },
  {
   "cell_type": "markdown",
   "source": [
    " ### EU + Mor cases"
   ],
   "metadata": {
    "collapsed": false,
    "pycharm": {
     "name": "#%% md\n"
    }
   }
  },
  {
   "cell_type": "code",
   "execution_count": 22,
   "outputs": [
    {
     "data": {
      "text/plain": "        date  new_cases_per_million  Europe  Morocco\n0 2020-01-23                  0.000   0.000      0.0\n1 2020-01-24                  0.003   0.003      0.0\n2 2020-01-25                  0.001   0.001      0.0\n3 2020-01-26                  0.000   0.000      0.0\n4 2020-01-27                  0.001   0.001      0.0\n5 2020-01-28                  0.005   0.005      0.0\n6 2020-01-29                  0.003   0.003      0.0\n7 2020-01-30                  0.000   0.000      0.0\n8 2020-01-31                  0.009   0.009      0.0\n9 2020-02-01                  0.008   0.008      0.0",
      "text/html": "<div>\n<style scoped>\n    .dataframe tbody tr th:only-of-type {\n        vertical-align: middle;\n    }\n\n    .dataframe tbody tr th {\n        vertical-align: top;\n    }\n\n    .dataframe thead th {\n        text-align: right;\n    }\n</style>\n<table border=\"1\" class=\"dataframe\">\n  <thead>\n    <tr style=\"text-align: right;\">\n      <th></th>\n      <th>date</th>\n      <th>new_cases_per_million</th>\n      <th>Europe</th>\n      <th>Morocco</th>\n    </tr>\n  </thead>\n  <tbody>\n    <tr>\n      <th>0</th>\n      <td>2020-01-23</td>\n      <td>0.000</td>\n      <td>0.000</td>\n      <td>0.0</td>\n    </tr>\n    <tr>\n      <th>1</th>\n      <td>2020-01-24</td>\n      <td>0.003</td>\n      <td>0.003</td>\n      <td>0.0</td>\n    </tr>\n    <tr>\n      <th>2</th>\n      <td>2020-01-25</td>\n      <td>0.001</td>\n      <td>0.001</td>\n      <td>0.0</td>\n    </tr>\n    <tr>\n      <th>3</th>\n      <td>2020-01-26</td>\n      <td>0.000</td>\n      <td>0.000</td>\n      <td>0.0</td>\n    </tr>\n    <tr>\n      <th>4</th>\n      <td>2020-01-27</td>\n      <td>0.001</td>\n      <td>0.001</td>\n      <td>0.0</td>\n    </tr>\n    <tr>\n      <th>5</th>\n      <td>2020-01-28</td>\n      <td>0.005</td>\n      <td>0.005</td>\n      <td>0.0</td>\n    </tr>\n    <tr>\n      <th>6</th>\n      <td>2020-01-29</td>\n      <td>0.003</td>\n      <td>0.003</td>\n      <td>0.0</td>\n    </tr>\n    <tr>\n      <th>7</th>\n      <td>2020-01-30</td>\n      <td>0.000</td>\n      <td>0.000</td>\n      <td>0.0</td>\n    </tr>\n    <tr>\n      <th>8</th>\n      <td>2020-01-31</td>\n      <td>0.009</td>\n      <td>0.009</td>\n      <td>0.0</td>\n    </tr>\n    <tr>\n      <th>9</th>\n      <td>2020-02-01</td>\n      <td>0.008</td>\n      <td>0.008</td>\n      <td>0.0</td>\n    </tr>\n  </tbody>\n</table>\n</div>"
     },
     "execution_count": 22,
     "metadata": {},
     "output_type": "execute_result"
    }
   ],
   "source": [
    "df_eu_mor = df[(df['location']=='Morocco') | (df['location']=='Europe')]\n",
    "df_eu_mor = df_eu_mor.filter(items=['date','location', 'new_cases_per_million',])\n",
    "for country in df_eu_mor['location'].unique():\n",
    "    df_eu_mor[country] = np.where(df_eu_mor['location'] == country, df_eu_mor['new_cases_per_million'], False)\n",
    "\n",
    "df_eu_mor= df_eu_mor.groupby(['date'], as_index=False).sum()\n",
    "df_eu_mor.to_csv('eu_mor.txt')\n",
    "df_eu_mor.head(10)"
   ],
   "metadata": {
    "collapsed": false,
    "pycharm": {
     "name": "#%%\n"
    }
   }
  },
  {
   "cell_type": "markdown",
   "source": [
    " ### EU + Mor cases + stringency_index"
   ],
   "metadata": {
    "collapsed": false,
    "pycharm": {
     "name": "#%% md\n"
    }
   }
  },
  {
   "cell_type": "code",
   "execution_count": 23,
   "outputs": [],
   "source": [
    "df_eu_mor_str = df[(df['location']=='Morocco') | (df['location']=='Spain')]\n",
    "df_eu_mor_str = df_eu_mor_str.filter(items=['date','location', 'new_cases_per_million','stringency_index'])\n",
    "for country in df_eu_mor_str['location'].unique():\n",
    "    df_eu_mor_str[country+'_cases'] = np.where(df_eu_mor_str['location'] == country, df_eu_mor_str['new_cases_per_million'], False)\n",
    "    df_eu_mor_str[country+'_stringency'] = np.where(df_eu_mor_str['location'] == country, df_eu_mor_str['stringency_index'], False)\n",
    "df_eu_mor_str= df_eu_mor_str.groupby(['date'], as_index=False).sum()\n",
    "df_eu_mor_str.head(80)\n",
    "df_eu_mor_str.to_csv('spn_mor_str.txt')\n"
   ],
   "metadata": {
    "collapsed": false,
    "pycharm": {
     "name": "#%%\n"
    }
   }
  },
  {
   "cell_type": "code",
   "execution_count": 24,
   "outputs": [
    {
     "data": {
      "text/plain": "(2612, 4)"
     },
     "execution_count": 24,
     "metadata": {},
     "output_type": "execute_result"
    }
   ],
   "source": [
    "df_euro = df[(df['location']=='Ireland') | (df['location']=='France')| (df['location']=='Italy')| (df['location']=='United Kingdom')| (df['location']=='Spain')| (df['location']=='Germany')| (df['location']=='Europe')]\n",
    "df_euro = df_euro[(df_euro['new_cases_per_million'] > 0)]\n",
    "#select_eu_countries = df_euro.location.unique()\n",
    "# print(select_eu_countries)\n",
    "# plt.figure(figsize=(600,400))\n",
    "df_euro = df_euro.filter(items=['date','location', 'new_cases_per_million','new_cases_smoothed_per_million'])\n",
    "# for country in select_eu_countries:\n",
    "palette = {c: 'red' if c=='Europe' else 'grey' for c in df_euro.location.unique() }\n",
    "#Fig5 = sns.lineplot(x='date', y='new_cases_per_million', hue='location', palette=palette, data=df_euro)\n",
    "#Fig5\n",
    "#df_euro.head()\n",
    "eu_countries = df_euro['location'].unique()\n",
    "#len(eu_countries)\n",
    "#df_euro.to_csv('euro.txt')\n",
    "df_euro.shape\n"
   ],
   "metadata": {
    "collapsed": false,
    "pycharm": {
     "name": "#%%\n"
    }
   }
  }
 ],
 "metadata": {
  "kernelspec": {
   "name": "venvmorocco",
   "language": "python",
   "display_name": "venvMorocco"
  },
  "language_info": {
   "codemirror_mode": {
    "name": "ipython",
    "version": 2
   },
   "file_extension": ".py",
   "mimetype": "text/x-python",
   "name": "python",
   "nbconvert_exporter": "python",
   "pygments_lexer": "ipython2",
   "version": "2.7.6"
  }
 },
 "nbformat": 4,
 "nbformat_minor": 0
}